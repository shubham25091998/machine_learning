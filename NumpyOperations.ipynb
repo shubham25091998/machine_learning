{
  "nbformat": 4,
  "nbformat_minor": 0,
  "metadata": {
    "colab": {
      "provenance": [],
      "authorship_tag": "ABX9TyOi2kHSTI5CgZA4GnyPC1Fy",
      "include_colab_link": true
    },
    "kernelspec": {
      "name": "python3",
      "display_name": "Python 3"
    },
    "language_info": {
      "name": "python"
    }
  },
  "cells": [
    {
      "cell_type": "markdown",
      "metadata": {
        "id": "view-in-github",
        "colab_type": "text"
      },
      "source": [
        "<a href=\"https://colab.research.google.com/github/shubham25091998/machine_learning/blob/main/NumpyOperations.ipynb\" target=\"_parent\"><img src=\"https://colab.research.google.com/assets/colab-badge.svg\" alt=\"Open In Colab\"/></a>"
      ]
    },
    {
      "cell_type": "code",
      "execution_count": 1,
      "metadata": {
        "id": "82LMHgXirwEM"
      },
      "outputs": [],
      "source": [
        "import numpy as np"
      ]
    },
    {
      "cell_type": "code",
      "source": [
        "arr1 = np.arange(10)\n",
        "arr2 = np.arange(10,20)\n",
        "\n",
        "print(arr1)\n",
        "print(arr2)\n",
        "\n",
        "# adding to array\n",
        "print(arr1 + arr2) # each element is added to its respective index\n",
        "                   # note : Array size must be same\n",
        "\n",
        "# arithmatic operations on array\n",
        "print(arr1 * 10)\n",
        "print(arr1 + 10)\n",
        "\n"
      ],
      "metadata": {
        "colab": {
          "base_uri": "https://localhost:8080/"
        },
        "id": "uG5K-vg-sgdf",
        "outputId": "6097bb5e-9e9e-4b58-fc92-1bdb38e27e5f"
      },
      "execution_count": 8,
      "outputs": [
        {
          "output_type": "stream",
          "name": "stdout",
          "text": [
            "[0 1 2 3 4 5 6 7 8 9]\n",
            "[10 11 12 13 14 15 16 17 18 19]\n",
            "[10 12 14 16 18 20 22 24 26 28]\n",
            "[ 0 10 20 30 40 50 60 70 80 90]\n",
            "[10 11 12 13 14 15 16 17 18 19]\n"
          ]
        }
      ]
    },
    {
      "cell_type": "code",
      "source": [
        "# numpy array functions\n",
        "\n",
        "# square root\n",
        "print(np.sqrt(arr1))\n",
        "\n",
        "# square\n",
        "print(np.square(arr1))\n",
        "\n",
        "# exponential\n",
        "print(np.exp(arr1))\n",
        "\n",
        "# trignometry\n",
        "print(np.sin(arr1))\n",
        "\n",
        "# log\n",
        "print(np.log(arr1)) # natural log"
      ],
      "metadata": {
        "colab": {
          "base_uri": "https://localhost:8080/"
        },
        "id": "eEcHmCInuO-7",
        "outputId": "d4b50496-e985-45c4-dcc2-3c7995b473c5"
      },
      "execution_count": 14,
      "outputs": [
        {
          "output_type": "stream",
          "name": "stdout",
          "text": [
            "[0.         1.         1.41421356 1.73205081 2.         2.23606798\n",
            " 2.44948974 2.64575131 2.82842712 3.        ]\n",
            "[ 0  1  4  9 16 25 36 49 64 81]\n",
            "[1.00000000e+00 2.71828183e+00 7.38905610e+00 2.00855369e+01\n",
            " 5.45981500e+01 1.48413159e+02 4.03428793e+02 1.09663316e+03\n",
            " 2.98095799e+03 8.10308393e+03]\n",
            "[ 0.          0.84147098  0.90929743  0.14112001 -0.7568025  -0.95892427\n",
            " -0.2794155   0.6569866   0.98935825  0.41211849]\n",
            "[      -inf 0.         0.69314718 1.09861229 1.38629436 1.60943791\n",
            " 1.79175947 1.94591015 2.07944154 2.19722458]\n"
          ]
        },
        {
          "output_type": "stream",
          "name": "stderr",
          "text": [
            "<ipython-input-14-2930266342>:16: RuntimeWarning: divide by zero encountered in log\n",
            "  print(np.log(arr1)) # natural log\n"
          ]
        }
      ]
    },
    {
      "cell_type": "markdown",
      "source": [
        "# Exercise"
      ],
      "metadata": {
        "id": "cJ__K_Z1wusa"
      }
    },
    {
      "cell_type": "code",
      "source": [
        "# array of 10 5's\n",
        "print(np.ones(10) * 5)"
      ],
      "metadata": {
        "id": "CLDqWqVlwyha",
        "outputId": "151573aa-615f-459f-fd69-e979b3adbcfc",
        "colab": {
          "base_uri": "https://localhost:8080/"
        }
      },
      "execution_count": 15,
      "outputs": [
        {
          "output_type": "stream",
          "name": "stdout",
          "text": [
            "[5. 5. 5. 5. 5. 5. 5. 5. 5. 5.]\n"
          ]
        }
      ]
    },
    {
      "cell_type": "code",
      "source": [
        "# array of int from 10 to 50\n",
        "print(np.arange(10, 50, 1))\n",
        "\n",
        "# array of all even int from 10 to 50\n",
        "print(np.arange(10,50,2))"
      ],
      "metadata": {
        "id": "kzRfnxpIxCsI",
        "outputId": "0cb39f5c-5520-4493-958d-fea185a68453",
        "colab": {
          "base_uri": "https://localhost:8080/"
        }
      },
      "execution_count": 17,
      "outputs": [
        {
          "output_type": "stream",
          "name": "stdout",
          "text": [
            "[10 11 12 13 14 15 16 17 18 19 20 21 22 23 24 25 26 27 28 29 30 31 32 33\n",
            " 34 35 36 37 38 39 40 41 42 43 44 45 46 47 48 49]\n",
            "[10 12 14 16 18 20 22 24 26 28 30 32 34 36 38 40 42 44 46 48]\n"
          ]
        }
      ]
    },
    {
      "cell_type": "code",
      "source": [
        "# 3x3 matrix for value 0 - 8\n",
        "print(np.arange(9).reshape(3,3))\n",
        "\n",
        "# 3x3 identity matrix\n",
        "\n",
        "print(np.eye(3,3))"
      ],
      "metadata": {
        "id": "C4u0tJQexCh0",
        "outputId": "f980eea0-57eb-4550-b32d-9f0c69a3dde3",
        "colab": {
          "base_uri": "https://localhost:8080/"
        }
      },
      "execution_count": 22,
      "outputs": [
        {
          "output_type": "stream",
          "name": "stdout",
          "text": [
            "[[0 1 2]\n",
            " [3 4 5]\n",
            " [6 7 8]]\n",
            "[[1. 0. 0.]\n",
            " [0. 1. 0.]\n",
            " [0. 0. 1.]]\n"
          ]
        }
      ]
    },
    {
      "cell_type": "code",
      "source": [
        "# random number between 0 - 1\n",
        "\n",
        "print(np.random.rand(1))\n",
        "\n",
        "# 25 random number of normal distribution\n",
        "print(np.random.randn(25))"
      ],
      "metadata": {
        "id": "oOMi7_D4xydE",
        "outputId": "93f2b923-b311-4d37-9ab5-93d83b2afab8",
        "colab": {
          "base_uri": "https://localhost:8080/"
        }
      },
      "execution_count": 32,
      "outputs": [
        {
          "output_type": "stream",
          "name": "stdout",
          "text": [
            "[0.48715876]\n",
            "[ 0.85072353 -1.4271656   0.80081979 -0.61619443 -0.69232459 -0.43806204\n",
            " -1.22298157  0.89082378 -1.09311231  0.16549795 -0.62774479  0.09507649\n",
            "  0.51987862 -0.10285527 -0.10431349  0.12062326 -2.09761949 -0.41745737\n",
            " -0.34669682  0.38141598 -0.1423793   0.1972251   0.06587698  0.09828683\n",
            "  1.42544651]\n"
          ]
        }
      ]
    },
    {
      "cell_type": "code",
      "source": [
        "print(np.arange(0.01,1.01,0.01).reshape(10,10))"
      ],
      "metadata": {
        "id": "-XDE01q70zTy",
        "outputId": "669192a5-e07d-44d3-9dd3-6ad3d69100ff",
        "colab": {
          "base_uri": "https://localhost:8080/"
        }
      },
      "execution_count": 36,
      "outputs": [
        {
          "output_type": "stream",
          "name": "stdout",
          "text": [
            "[[0.01 0.02 0.03 0.04 0.05 0.06 0.07 0.08 0.09 0.1 ]\n",
            " [0.11 0.12 0.13 0.14 0.15 0.16 0.17 0.18 0.19 0.2 ]\n",
            " [0.21 0.22 0.23 0.24 0.25 0.26 0.27 0.28 0.29 0.3 ]\n",
            " [0.31 0.32 0.33 0.34 0.35 0.36 0.37 0.38 0.39 0.4 ]\n",
            " [0.41 0.42 0.43 0.44 0.45 0.46 0.47 0.48 0.49 0.5 ]\n",
            " [0.51 0.52 0.53 0.54 0.55 0.56 0.57 0.58 0.59 0.6 ]\n",
            " [0.61 0.62 0.63 0.64 0.65 0.66 0.67 0.68 0.69 0.7 ]\n",
            " [0.71 0.72 0.73 0.74 0.75 0.76 0.77 0.78 0.79 0.8 ]\n",
            " [0.81 0.82 0.83 0.84 0.85 0.86 0.87 0.88 0.89 0.9 ]\n",
            " [0.91 0.92 0.93 0.94 0.95 0.96 0.97 0.98 0.99 1.  ]]\n"
          ]
        }
      ]
    },
    {
      "cell_type": "code",
      "source": [
        "print(np.arange(1,101).reshape(10,10) * 0.01)"
      ],
      "metadata": {
        "id": "1WkdGszd1FQ4",
        "outputId": "202793d5-bf59-4976-9fea-8dd7908cb5d8",
        "colab": {
          "base_uri": "https://localhost:8080/"
        }
      },
      "execution_count": 37,
      "outputs": [
        {
          "output_type": "stream",
          "name": "stdout",
          "text": [
            "[[0.01 0.02 0.03 0.04 0.05 0.06 0.07 0.08 0.09 0.1 ]\n",
            " [0.11 0.12 0.13 0.14 0.15 0.16 0.17 0.18 0.19 0.2 ]\n",
            " [0.21 0.22 0.23 0.24 0.25 0.26 0.27 0.28 0.29 0.3 ]\n",
            " [0.31 0.32 0.33 0.34 0.35 0.36 0.37 0.38 0.39 0.4 ]\n",
            " [0.41 0.42 0.43 0.44 0.45 0.46 0.47 0.48 0.49 0.5 ]\n",
            " [0.51 0.52 0.53 0.54 0.55 0.56 0.57 0.58 0.59 0.6 ]\n",
            " [0.61 0.62 0.63 0.64 0.65 0.66 0.67 0.68 0.69 0.7 ]\n",
            " [0.71 0.72 0.73 0.74 0.75 0.76 0.77 0.78 0.79 0.8 ]\n",
            " [0.81 0.82 0.83 0.84 0.85 0.86 0.87 0.88 0.89 0.9 ]\n",
            " [0.91 0.92 0.93 0.94 0.95 0.96 0.97 0.98 0.99 1.  ]]\n"
          ]
        }
      ]
    },
    {
      "cell_type": "code",
      "source": [
        "print(np.linspace(0.01, 1, 100).reshape(10,10))"
      ],
      "metadata": {
        "id": "0LtkRVyv1ZpX",
        "outputId": "f42618de-5e95-4614-fb1e-e5ac0bd392c0",
        "colab": {
          "base_uri": "https://localhost:8080/"
        }
      },
      "execution_count": 39,
      "outputs": [
        {
          "output_type": "stream",
          "name": "stdout",
          "text": [
            "[[0.01 0.02 0.03 0.04 0.05 0.06 0.07 0.08 0.09 0.1 ]\n",
            " [0.11 0.12 0.13 0.14 0.15 0.16 0.17 0.18 0.19 0.2 ]\n",
            " [0.21 0.22 0.23 0.24 0.25 0.26 0.27 0.28 0.29 0.3 ]\n",
            " [0.31 0.32 0.33 0.34 0.35 0.36 0.37 0.38 0.39 0.4 ]\n",
            " [0.41 0.42 0.43 0.44 0.45 0.46 0.47 0.48 0.49 0.5 ]\n",
            " [0.51 0.52 0.53 0.54 0.55 0.56 0.57 0.58 0.59 0.6 ]\n",
            " [0.61 0.62 0.63 0.64 0.65 0.66 0.67 0.68 0.69 0.7 ]\n",
            " [0.71 0.72 0.73 0.74 0.75 0.76 0.77 0.78 0.79 0.8 ]\n",
            " [0.81 0.82 0.83 0.84 0.85 0.86 0.87 0.88 0.89 0.9 ]\n",
            " [0.91 0.92 0.93 0.94 0.95 0.96 0.97 0.98 0.99 1.  ]]\n"
          ]
        }
      ]
    },
    {
      "cell_type": "code",
      "source": [
        "# array with 20 linearly spaced points between 0 - 1\n",
        "print(np.linspace(0,1, 20))"
      ],
      "metadata": {
        "id": "_pvfyojS1qv1",
        "outputId": "c0c7b94f-36e8-4048-9abf-03aed7dbdfe4",
        "colab": {
          "base_uri": "https://localhost:8080/"
        }
      },
      "execution_count": 41,
      "outputs": [
        {
          "output_type": "stream",
          "name": "stdout",
          "text": [
            "[0.         0.05263158 0.10526316 0.15789474 0.21052632 0.26315789\n",
            " 0.31578947 0.36842105 0.42105263 0.47368421 0.52631579 0.57894737\n",
            " 0.63157895 0.68421053 0.73684211 0.78947368 0.84210526 0.89473684\n",
            " 0.94736842 1.        ]\n"
          ]
        }
      ]
    },
    {
      "cell_type": "code",
      "source": [
        "mat = np.arange(1,26).reshape(5,5)\n",
        "print(mat)"
      ],
      "metadata": {
        "id": "RQn59fEN2BLK",
        "outputId": "2e370042-41de-4cda-8660-4cff48fc02f9",
        "colab": {
          "base_uri": "https://localhost:8080/"
        }
      },
      "execution_count": 43,
      "outputs": [
        {
          "output_type": "stream",
          "name": "stdout",
          "text": [
            "[[ 1  2  3  4  5]\n",
            " [ 6  7  8  9 10]\n",
            " [11 12 13 14 15]\n",
            " [16 17 18 19 20]\n",
            " [21 22 23 24 25]]\n"
          ]
        }
      ]
    },
    {
      "cell_type": "code",
      "source": [
        "print(mat[2:, 1:])"
      ],
      "metadata": {
        "id": "YEu8IEiq2MqR",
        "outputId": "b1e5964e-75e1-4863-bdc4-5db933a5320a",
        "colab": {
          "base_uri": "https://localhost:8080/"
        }
      },
      "execution_count": 44,
      "outputs": [
        {
          "output_type": "stream",
          "name": "stdout",
          "text": [
            "[[12 13 14 15]\n",
            " [17 18 19 20]\n",
            " [22 23 24 25]]\n"
          ]
        }
      ]
    },
    {
      "cell_type": "code",
      "source": [
        "print(mat[3][4])"
      ],
      "metadata": {
        "id": "90xvW9m42Zcj",
        "outputId": "c4598a93-ba98-42f3-e2ee-495ee0aed63e",
        "colab": {
          "base_uri": "https://localhost:8080/"
        }
      },
      "execution_count": 45,
      "outputs": [
        {
          "output_type": "stream",
          "name": "stdout",
          "text": [
            "20\n"
          ]
        }
      ]
    },
    {
      "cell_type": "code",
      "source": [
        "print(mat[:3,1:2])"
      ],
      "metadata": {
        "id": "VVAShn8T2l6g",
        "outputId": "660cd033-bc29-4563-c75b-38395dc22537",
        "colab": {
          "base_uri": "https://localhost:8080/"
        }
      },
      "execution_count": 47,
      "outputs": [
        {
          "output_type": "stream",
          "name": "stdout",
          "text": [
            "[[ 2]\n",
            " [ 7]\n",
            " [12]]\n"
          ]
        }
      ]
    },
    {
      "cell_type": "code",
      "source": [
        "print(mat[4])"
      ],
      "metadata": {
        "id": "tZLdeqyE3Kp1",
        "outputId": "29de2b9c-a0f5-4e16-c9db-fc4a6747cd88",
        "colab": {
          "base_uri": "https://localhost:8080/"
        }
      },
      "execution_count": 48,
      "outputs": [
        {
          "output_type": "stream",
          "name": "stdout",
          "text": [
            "[21 22 23 24 25]\n"
          ]
        }
      ]
    },
    {
      "cell_type": "code",
      "source": [
        "# sum of all value in mat\n",
        "print(mat.sum())"
      ],
      "metadata": {
        "id": "M5ekIicM3UDr",
        "outputId": "f673639a-810c-4e99-d769-d56e84bea9a9",
        "colab": {
          "base_uri": "https://localhost:8080/"
        }
      },
      "execution_count": 49,
      "outputs": [
        {
          "output_type": "stream",
          "name": "stdout",
          "text": [
            "325\n"
          ]
        }
      ]
    },
    {
      "cell_type": "code",
      "source": [
        "# standard deviation\n",
        "print(np.std(mat))\n",
        "\n",
        "# or\n",
        "print(mat.std())"
      ],
      "metadata": {
        "id": "lIxMk0aP3diV",
        "outputId": "3c28eada-04ad-43c2-83fd-ee8719edfc0b",
        "colab": {
          "base_uri": "https://localhost:8080/"
        }
      },
      "execution_count": 51,
      "outputs": [
        {
          "output_type": "stream",
          "name": "stdout",
          "text": [
            "7.211102550927978\n",
            "7.211102550927978\n"
          ]
        }
      ]
    },
    {
      "cell_type": "code",
      "source": [
        "# sum of all column elements\n",
        "print(np.sum(mat, axis = 0))"
      ],
      "metadata": {
        "id": "E2W8r8Bf3qm9",
        "outputId": "9d4736c8-aed4-492f-ccaa-80d68ab07641",
        "colab": {
          "base_uri": "https://localhost:8080/"
        }
      },
      "execution_count": 58,
      "outputs": [
        {
          "output_type": "stream",
          "name": "stdout",
          "text": [
            "[55 60 65 70 75]\n"
          ]
        }
      ]
    }
  ]
}