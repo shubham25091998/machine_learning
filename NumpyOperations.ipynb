{
  "nbformat": 4,
  "nbformat_minor": 0,
  "metadata": {
    "colab": {
      "provenance": [],
      "authorship_tag": "ABX9TyPRfV4H1mFtVfwUNnXmRqNK",
      "include_colab_link": true
    },
    "kernelspec": {
      "name": "python3",
      "display_name": "Python 3"
    },
    "language_info": {
      "name": "python"
    }
  },
  "cells": [
    {
      "cell_type": "markdown",
      "metadata": {
        "id": "view-in-github",
        "colab_type": "text"
      },
      "source": [
        "<a href=\"https://colab.research.google.com/github/shubham25091998/machine_learning/blob/main/NumpyOperations.ipynb\" target=\"_parent\"><img src=\"https://colab.research.google.com/assets/colab-badge.svg\" alt=\"Open In Colab\"/></a>"
      ]
    },
    {
      "cell_type": "code",
      "execution_count": 1,
      "metadata": {
        "id": "82LMHgXirwEM"
      },
      "outputs": [],
      "source": [
        "import numpy as np"
      ]
    },
    {
      "cell_type": "code",
      "source": [
        "arr1 = np.arange(10)\n",
        "arr2 = np.arange(10,20)\n",
        "\n",
        "print(arr1)\n",
        "print(arr2)\n",
        "\n",
        "# adding to array\n",
        "print(arr1 + arr2) # each element is added to its respective index\n",
        "                   # note : Array size must be same\n",
        "\n",
        "# arithmatic operations on array\n",
        "print(arr1 * 10)\n",
        "print(arr1 + 10)\n",
        "\n"
      ],
      "metadata": {
        "id": "uG5K-vg-sgdf",
        "outputId": "6097bb5e-9e9e-4b58-fc92-1bdb38e27e5f",
        "colab": {
          "base_uri": "https://localhost:8080/"
        }
      },
      "execution_count": 8,
      "outputs": [
        {
          "output_type": "stream",
          "name": "stdout",
          "text": [
            "[0 1 2 3 4 5 6 7 8 9]\n",
            "[10 11 12 13 14 15 16 17 18 19]\n",
            "[10 12 14 16 18 20 22 24 26 28]\n",
            "[ 0 10 20 30 40 50 60 70 80 90]\n",
            "[10 11 12 13 14 15 16 17 18 19]\n"
          ]
        }
      ]
    },
    {
      "cell_type": "code",
      "source": [
        "# numpy array functions\n",
        "\n",
        "# square root\n",
        "print(np.sqrt(arr1))\n",
        "\n",
        "# square\n",
        "print(np.square(arr1))\n",
        "\n",
        "# exponential\n",
        "print(np.exp(arr1))\n",
        "\n",
        "# trignometry\n",
        "print(np.sin(arr1))\n",
        "\n",
        "# log\n",
        "print(np.log(arr1)) # natural log"
      ],
      "metadata": {
        "id": "eEcHmCInuO-7",
        "outputId": "d4b50496-e985-45c4-dcc2-3c7995b473c5",
        "colab": {
          "base_uri": "https://localhost:8080/"
        }
      },
      "execution_count": 14,
      "outputs": [
        {
          "output_type": "stream",
          "name": "stdout",
          "text": [
            "[0.         1.         1.41421356 1.73205081 2.         2.23606798\n",
            " 2.44948974 2.64575131 2.82842712 3.        ]\n",
            "[ 0  1  4  9 16 25 36 49 64 81]\n",
            "[1.00000000e+00 2.71828183e+00 7.38905610e+00 2.00855369e+01\n",
            " 5.45981500e+01 1.48413159e+02 4.03428793e+02 1.09663316e+03\n",
            " 2.98095799e+03 8.10308393e+03]\n",
            "[ 0.          0.84147098  0.90929743  0.14112001 -0.7568025  -0.95892427\n",
            " -0.2794155   0.6569866   0.98935825  0.41211849]\n",
            "[      -inf 0.         0.69314718 1.09861229 1.38629436 1.60943791\n",
            " 1.79175947 1.94591015 2.07944154 2.19722458]\n"
          ]
        },
        {
          "output_type": "stream",
          "name": "stderr",
          "text": [
            "<ipython-input-14-2930266342>:16: RuntimeWarning: divide by zero encountered in log\n",
            "  print(np.log(arr1)) # natural log\n"
          ]
        }
      ]
    }
  ]
}