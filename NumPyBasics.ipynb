{
  "nbformat": 4,
  "nbformat_minor": 0,
  "metadata": {
    "colab": {
      "provenance": [],
      "authorship_tag": "ABX9TyPakINp5MIBZZPqpebJl6wf",
      "include_colab_link": true
    },
    "kernelspec": {
      "name": "python3",
      "display_name": "Python 3"
    },
    "language_info": {
      "name": "python"
    }
  },
  "cells": [
    {
      "cell_type": "markdown",
      "metadata": {
        "id": "view-in-github",
        "colab_type": "text"
      },
      "source": [
        "<a href=\"https://colab.research.google.com/github/shubham25091998/machine_learning/blob/main/NumPyBasics.ipynb\" target=\"_parent\"><img src=\"https://colab.research.google.com/assets/colab-badge.svg\" alt=\"Open In Colab\"/></a>"
      ]
    },
    {
      "cell_type": "code",
      "execution_count": 1,
      "metadata": {
        "id": "AFA-dl2DABlO"
      },
      "outputs": [],
      "source": [
        "import numpy as np"
      ]
    },
    {
      "cell_type": "code",
      "source": [
        "#numpy array\n",
        "lst = [1,2,3]\n",
        "\n",
        "one_D_array = np.array(lst)\n",
        "print(one_D_array)\n",
        "\n",
        "lst = [[1,2,3],\n",
        "       [4,5,6],\n",
        "       [7,8,9]]\n",
        "two_D_array = np.array(lst)\n",
        "print(two_D_array)\n"
      ],
      "metadata": {
        "id": "ETVmDjylAyDR",
        "outputId": "6b4357d5-f781-44d6-c0b2-99f94e92c932",
        "colab": {
          "base_uri": "https://localhost:8080/"
        }
      },
      "execution_count": 3,
      "outputs": [
        {
          "output_type": "stream",
          "name": "stdout",
          "text": [
            "[1 2 3]\n",
            "[[1 2 3]\n",
            " [4 5 6]\n",
            " [7 8 9]]\n"
          ]
        }
      ]
    },
    {
      "cell_type": "code",
      "source": [
        "# create numpy array using range\n",
        "arr1 = np.arange(0,10,2)\n",
        "print(arr1)"
      ],
      "metadata": {
        "id": "lZi_cbgzBmPD",
        "outputId": "77d795e6-8a80-4feb-b49f-c014ef09f142",
        "colab": {
          "base_uri": "https://localhost:8080/"
        }
      },
      "execution_count": 5,
      "outputs": [
        {
          "output_type": "stream",
          "name": "stdout",
          "text": [
            "[0 2 4 6 8]\n"
          ]
        }
      ]
    },
    {
      "cell_type": "code",
      "source": [
        "# create array with all 0\n",
        "\n",
        "# 1D array\n",
        "arr2 = np.zeros(4)\n",
        "print(arr2)\n",
        "\n",
        "# 2D array\n",
        "arr3 = np.zeros((2,2))\n",
        "print(arr3)"
      ],
      "metadata": {
        "id": "hLQoTXucB75d",
        "outputId": "a32c9772-4938-4a64-e54b-615b671c7ad6",
        "colab": {
          "base_uri": "https://localhost:8080/"
        }
      },
      "execution_count": 7,
      "outputs": [
        {
          "output_type": "stream",
          "name": "stdout",
          "text": [
            "[0. 0. 0. 0.]\n",
            "[[0. 0.]\n",
            " [0. 0.]]\n"
          ]
        }
      ]
    },
    {
      "cell_type": "code",
      "source": [
        "# create array with all 1\n",
        "\n",
        "#1D array\n",
        "arr1 = np.ones(3)\n",
        "print(arr1)\n",
        "\n",
        "#2D array\n",
        "arr2 = np.ones((3,3))\n",
        "print(arr2)"
      ],
      "metadata": {
        "id": "Wkr4BXBQCsXY",
        "outputId": "0f70aebc-7020-4bd1-a722-382659ffef3c",
        "colab": {
          "base_uri": "https://localhost:8080/"
        }
      },
      "execution_count": 9,
      "outputs": [
        {
          "output_type": "stream",
          "name": "stdout",
          "text": [
            "[1. 1. 1.]\n",
            "[[1. 1. 1.]\n",
            " [1. 1. 1.]\n",
            " [1. 1. 1.]]\n"
          ]
        }
      ]
    },
    {
      "cell_type": "code",
      "source": [
        "# creating points equally spaced between given range\n",
        "\n",
        "arr1 = np.linspace(0,10,20)\n",
        "print(arr1)"
      ],
      "metadata": {
        "id": "DqsgrIFxDPnG",
        "outputId": "cee82675-80df-4f03-c0ab-8c767d673d8a",
        "colab": {
          "base_uri": "https://localhost:8080/"
        }
      },
      "execution_count": 10,
      "outputs": [
        {
          "output_type": "stream",
          "name": "stdout",
          "text": [
            "[ 0.          0.52631579  1.05263158  1.57894737  2.10526316  2.63157895\n",
            "  3.15789474  3.68421053  4.21052632  4.73684211  5.26315789  5.78947368\n",
            "  6.31578947  6.84210526  7.36842105  7.89473684  8.42105263  8.94736842\n",
            "  9.47368421 10.        ]\n"
          ]
        }
      ]
    }
  ]
}