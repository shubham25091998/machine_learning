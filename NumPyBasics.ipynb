{
  "nbformat": 4,
  "nbformat_minor": 0,
  "metadata": {
    "colab": {
      "provenance": [],
      "authorship_tag": "ABX9TyMjZXBIKcvokF62r7DJ1Zkz",
      "include_colab_link": true
    },
    "kernelspec": {
      "name": "python3",
      "display_name": "Python 3"
    },
    "language_info": {
      "name": "python"
    }
  },
  "cells": [
    {
      "cell_type": "markdown",
      "metadata": {
        "id": "view-in-github",
        "colab_type": "text"
      },
      "source": [
        "<a href=\"https://colab.research.google.com/github/shubham25091998/machine_learning/blob/main/NumPyBasics.ipynb\" target=\"_parent\"><img src=\"https://colab.research.google.com/assets/colab-badge.svg\" alt=\"Open In Colab\"/></a>"
      ]
    },
    {
      "cell_type": "code",
      "execution_count": 2,
      "metadata": {
        "id": "AFA-dl2DABlO"
      },
      "outputs": [],
      "source": [
        "import numpy as np"
      ]
    },
    {
      "cell_type": "code",
      "source": [
        "#numpy array\n",
        "lst = [1,2,3]\n",
        "\n",
        "one_D_array = np.array(lst)\n",
        "print(one_D_array)\n",
        "\n",
        "lst = [[1,2,3],\n",
        "       [4,5,6],\n",
        "       [7,8,9]]\n",
        "two_D_array = np.array(lst)\n",
        "print(two_D_array)\n"
      ],
      "metadata": {
        "colab": {
          "base_uri": "https://localhost:8080/"
        },
        "id": "ETVmDjylAyDR",
        "outputId": "987de04b-4048-4ff7-8f1f-c637aa51d227"
      },
      "execution_count": 3,
      "outputs": [
        {
          "output_type": "stream",
          "name": "stdout",
          "text": [
            "[1 2 3]\n",
            "[[1 2 3]\n",
            " [4 5 6]\n",
            " [7 8 9]]\n"
          ]
        }
      ]
    },
    {
      "cell_type": "code",
      "source": [
        "# create numpy array using range\n",
        "arr1 = np.arange(0,10,2)\n",
        "print(arr1)"
      ],
      "metadata": {
        "colab": {
          "base_uri": "https://localhost:8080/"
        },
        "id": "lZi_cbgzBmPD",
        "outputId": "da6684c8-78aa-4446-daae-62ac5f1feae0"
      },
      "execution_count": 4,
      "outputs": [
        {
          "output_type": "stream",
          "name": "stdout",
          "text": [
            "[0 2 4 6 8]\n"
          ]
        }
      ]
    },
    {
      "cell_type": "code",
      "source": [
        "# create array with all 0\n",
        "\n",
        "# 1D array\n",
        "arr2 = np.zeros(4)\n",
        "print(arr2)\n",
        "\n",
        "# 2D array\n",
        "arr3 = np.zeros((2,2))\n",
        "print(arr3)"
      ],
      "metadata": {
        "colab": {
          "base_uri": "https://localhost:8080/"
        },
        "id": "hLQoTXucB75d",
        "outputId": "3f68f75a-ddea-4069-b7a7-d18b7043f0dc"
      },
      "execution_count": 5,
      "outputs": [
        {
          "output_type": "stream",
          "name": "stdout",
          "text": [
            "[0. 0. 0. 0.]\n",
            "[[0. 0.]\n",
            " [0. 0.]]\n"
          ]
        }
      ]
    },
    {
      "cell_type": "code",
      "source": [
        "# create array with all 1\n",
        "\n",
        "#1D array\n",
        "arr1 = np.ones(3)\n",
        "print(arr1)\n",
        "\n",
        "#2D array\n",
        "arr2 = np.ones((3,3))\n",
        "print(arr2)"
      ],
      "metadata": {
        "colab": {
          "base_uri": "https://localhost:8080/"
        },
        "id": "Wkr4BXBQCsXY",
        "outputId": "a4e3c597-3366-40df-8de8-b4b94d6c5481"
      },
      "execution_count": 6,
      "outputs": [
        {
          "output_type": "stream",
          "name": "stdout",
          "text": [
            "[1. 1. 1.]\n",
            "[[1. 1. 1.]\n",
            " [1. 1. 1.]\n",
            " [1. 1. 1.]]\n"
          ]
        }
      ]
    },
    {
      "cell_type": "code",
      "source": [
        "# creating points equally spaced between given range\n",
        "\n",
        "arr1 = np.linspace(0,10,20)\n",
        "print(arr1)"
      ],
      "metadata": {
        "colab": {
          "base_uri": "https://localhost:8080/"
        },
        "id": "DqsgrIFxDPnG",
        "outputId": "e02eada4-f423-4844-a0be-5f0253ef60f0"
      },
      "execution_count": 7,
      "outputs": [
        {
          "output_type": "stream",
          "name": "stdout",
          "text": [
            "[ 0.          0.52631579  1.05263158  1.57894737  2.10526316  2.63157895\n",
            "  3.15789474  3.68421053  4.21052632  4.73684211  5.26315789  5.78947368\n",
            "  6.31578947  6.84210526  7.36842105  7.89473684  8.42105263  8.94736842\n",
            "  9.47368421 10.        ]\n"
          ]
        }
      ]
    },
    {
      "cell_type": "code",
      "source": [
        "# creating identity matrix\n",
        "\n",
        "matrix = np.eye(4)\n",
        "print(matrix)"
      ],
      "metadata": {
        "id": "qxUXk74zEEhq",
        "outputId": "d62b8046-4d8e-46a7-c44d-cdf12eca2c02",
        "colab": {
          "base_uri": "https://localhost:8080/"
        }
      },
      "execution_count": 8,
      "outputs": [
        {
          "output_type": "stream",
          "name": "stdout",
          "text": [
            "[[1. 0. 0. 0.]\n",
            " [0. 1. 0. 0.]\n",
            " [0. 0. 1. 0.]\n",
            " [0. 0. 0. 1.]]\n"
          ]
        }
      ]
    },
    {
      "cell_type": "code",
      "source": [
        "# random number array\n",
        "\n",
        "# random numbers\n",
        "arr = np.random.rand(5)\n",
        "print(arr)\n",
        "\n",
        "# random array which distributed around 0\n",
        "arr = np.random.randn(5)\n",
        "print(arr)"
      ],
      "metadata": {
        "id": "mHe53KF0FYQJ",
        "outputId": "25e2572b-6198-4cfc-bbe4-8a0506a80926",
        "colab": {
          "base_uri": "https://localhost:8080/"
        }
      },
      "execution_count": 9,
      "outputs": [
        {
          "output_type": "stream",
          "name": "stdout",
          "text": [
            "[0.91471239 0.03661483 0.95517181 0.20438826 0.50859784]\n",
            "[-0.0277103  -1.41141484 -0.41293778  1.95073128 -0.27713266]\n"
          ]
        }
      ]
    },
    {
      "cell_type": "code",
      "source": [
        "# getting random int -> start, end, count default = 1\n",
        "print(np.random.randint(0, 10, 20))"
      ],
      "metadata": {
        "colab": {
          "base_uri": "https://localhost:8080/"
        },
        "id": "LFHaO-q6Rmdo",
        "outputId": "e176e4d0-1007-459e-8868-8228aeb54d20"
      },
      "execution_count": 13,
      "outputs": [
        {
          "output_type": "stream",
          "name": "stdout",
          "text": [
            "[7 0 9 9 9 5 5 7 6 1 4 2 5 0 9 5 6 6 7 3]\n"
          ]
        }
      ]
    },
    {
      "cell_type": "code",
      "source": [
        "# reshaping the existing array\n",
        "# note no of elements in output array should be same as no of elements in existing array\n",
        "\n",
        "arr1 = np.arange(0,125,1)\n",
        "\n",
        "arr2 = arr1.reshape(5,5,5)\n",
        "print(arr2)"
      ],
      "metadata": {
        "colab": {
          "base_uri": "https://localhost:8080/"
        },
        "id": "etRMcEOGTXi9",
        "outputId": "1c1c1e11-de4f-4afc-db4e-b080da981391"
      },
      "execution_count": 17,
      "outputs": [
        {
          "output_type": "stream",
          "name": "stdout",
          "text": [
            "[[[  0   1   2   3   4]\n",
            "  [  5   6   7   8   9]\n",
            "  [ 10  11  12  13  14]\n",
            "  [ 15  16  17  18  19]\n",
            "  [ 20  21  22  23  24]]\n",
            "\n",
            " [[ 25  26  27  28  29]\n",
            "  [ 30  31  32  33  34]\n",
            "  [ 35  36  37  38  39]\n",
            "  [ 40  41  42  43  44]\n",
            "  [ 45  46  47  48  49]]\n",
            "\n",
            " [[ 50  51  52  53  54]\n",
            "  [ 55  56  57  58  59]\n",
            "  [ 60  61  62  63  64]\n",
            "  [ 65  66  67  68  69]\n",
            "  [ 70  71  72  73  74]]\n",
            "\n",
            " [[ 75  76  77  78  79]\n",
            "  [ 80  81  82  83  84]\n",
            "  [ 85  86  87  88  89]\n",
            "  [ 90  91  92  93  94]\n",
            "  [ 95  96  97  98  99]]\n",
            "\n",
            " [[100 101 102 103 104]\n",
            "  [105 106 107 108 109]\n",
            "  [110 111 112 113 114]\n",
            "  [115 116 117 118 119]\n",
            "  [120 121 122 123 124]]]\n"
          ]
        }
      ]
    },
    {
      "cell_type": "code",
      "source": [
        "# geeting max and min value with their indexs\n",
        "\n",
        "arr = np.random.randint(0, 100, 50)\n",
        "\n",
        "# get max value\n",
        "print(arr.max())\n",
        "\n",
        "# get max value index\n",
        "print(f\"index : {arr.argmax()}\")\n",
        "\n",
        "# get min value\n",
        "print(arr.min())\n",
        "\n",
        "# get min value index\n",
        "print(f\"index :{arr.argmin()}\")"
      ],
      "metadata": {
        "colab": {
          "base_uri": "https://localhost:8080/"
        },
        "id": "RofJ_jKwXC_u",
        "outputId": "ca6b2f94-b78e-465d-95b9-4949c0cba12d"
      },
      "execution_count": 21,
      "outputs": [
        {
          "output_type": "stream",
          "name": "stdout",
          "text": [
            "99\n",
            "index : 3\n",
            "0\n",
            "index :17\n"
          ]
        }
      ]
    },
    {
      "cell_type": "markdown",
      "source": [
        "# Array indexing"
      ],
      "metadata": {
        "id": "xcLRRLq1i1pW"
      }
    },
    {
      "cell_type": "code",
      "source": [
        "arr = np.random.randint(1,100, 10)\n",
        "\n",
        "# print index 1\n",
        "print(arr[1])\n",
        "\n",
        "# print data from 0th index to 5th index\n",
        "print(arr[0:6])\n",
        "\n",
        "# or\n",
        "\n",
        "print(arr[:5])\n",
        "\n",
        "# print values from 2 to last index\n",
        "print(arr[2:])\n"
      ],
      "metadata": {
        "colab": {
          "base_uri": "https://localhost:8080/"
        },
        "id": "NLIidWyvi05P",
        "outputId": "23cd359b-ce32-4554-d24d-1009c15f7564"
      },
      "execution_count": 22,
      "outputs": [
        {
          "output_type": "stream",
          "name": "stdout",
          "text": [
            "23\n",
            "[28 23 55 95 18 78]\n",
            "[28 23 55 95 18]\n",
            "[55 95 18 78 90 92 77 32]\n"
          ]
        }
      ]
    },
    {
      "cell_type": "code",
      "source": [
        "# change the values of index 1 to 4 to 100\n",
        "\n",
        "arr[1:5] = 100\n",
        "print(arr)"
      ],
      "metadata": {
        "colab": {
          "base_uri": "https://localhost:8080/"
        },
        "id": "8lxLJlWUjWoz",
        "outputId": "2b8f828a-527c-4e8b-b790-29786771ecf9"
      },
      "execution_count": 23,
      "outputs": [
        {
          "output_type": "stream",
          "name": "stdout",
          "text": [
            "[ 28 100 100 100 100  78  90  92  77  32]\n"
          ]
        }
      ]
    },
    {
      "cell_type": "code",
      "source": [
        "# copy of array\n",
        "arr = np.arange(0,10,1)\n",
        "print(arr)\n",
        "\n",
        "# slicing does not copy but point to same data of original array hence any change in copy will be refelected into original array\n",
        "cp_arr = arr.copy()\n",
        "print(cp_arr)\n",
        "\n",
        "cp_arr[:] = 100\n",
        "print(arr)\n",
        "print(cp_arr)"
      ],
      "metadata": {
        "colab": {
          "base_uri": "https://localhost:8080/"
        },
        "id": "IZlqF373kBxs",
        "outputId": "fad29225-86d6-4307-c0dd-2a3ce63a4643"
      },
      "execution_count": 40,
      "outputs": [
        {
          "output_type": "stream",
          "name": "stdout",
          "text": [
            "[0 1 2 3 4 5 6 7 8 9]\n",
            "[0 1 2 3 4 5 6 7 8 9]\n",
            "[0 1 2 3 4 5 6 7 8 9]\n",
            "[100 100 100 100 100 100 100 100 100 100]\n"
          ]
        }
      ]
    },
    {
      "cell_type": "code",
      "source": [
        "# accessing elements of 2d array\n",
        "\n",
        "arr = np.random.randint(1,10,9)\n",
        "D2_arr = arr.reshape(3,3)\n",
        "print(D2_arr)\n",
        "print(D2_arr[1][1])\n",
        "# or\n",
        "print(D2_arr[1,1])"
      ],
      "metadata": {
        "colab": {
          "base_uri": "https://localhost:8080/"
        },
        "id": "YqEv_60Am7BF",
        "outputId": "af7c017b-e4b2-4312-b5c2-c70889c9f956"
      },
      "execution_count": 44,
      "outputs": [
        {
          "output_type": "stream",
          "name": "stdout",
          "text": [
            "[[7 6 5]\n",
            " [9 5 5]\n",
            " [1 9 1]]\n",
            "5\n",
            "5\n"
          ]
        }
      ]
    },
    {
      "cell_type": "code",
      "source": [
        "# get subsection of matrix with slice notation\n",
        "# get row 0 - 1 and get column 1 - 2\n",
        "sub = D2_arr[:2,1:]\n",
        "print(sub)"
      ],
      "metadata": {
        "id": "wy_1opOqnyQm",
        "outputId": "74a0ee7c-6d52-47cc-9f93-f20b89caf4c0",
        "colab": {
          "base_uri": "https://localhost:8080/"
        }
      },
      "execution_count": 45,
      "outputs": [
        {
          "output_type": "stream",
          "name": "stdout",
          "text": [
            "[[6 5]\n",
            " [5 5]]\n"
          ]
        }
      ]
    },
    {
      "cell_type": "code",
      "source": [
        "# getting the data which satisfies the condition\n",
        "arr = np.arange(1, 10,1)\n",
        "print(arr)\n",
        "\n",
        "# 1. get boolean array by applying condition\n",
        "b_arr = arr > 5\n",
        "print(b_arr)\n",
        "\n",
        "# 2. get data from indexes where boolean true exist\n",
        "print(arr[b_arr])\n",
        "\n",
        "# Everything in one line\n",
        "print(arr[arr>5])"
      ],
      "metadata": {
        "id": "_wO47UFGoqLw",
        "outputId": "39f27d3c-f0eb-4ec9-81fb-c58a84145e08",
        "colab": {
          "base_uri": "https://localhost:8080/"
        }
      },
      "execution_count": 49,
      "outputs": [
        {
          "output_type": "stream",
          "name": "stdout",
          "text": [
            "[1 2 3 4 5 6 7 8 9]\n",
            "[False False False False False  True  True  True  True]\n",
            "[6 7 8 9]\n",
            "[6 7 8 9]\n"
          ]
        }
      ]
    }
  ]
}